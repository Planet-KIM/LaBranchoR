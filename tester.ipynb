{
 "cells": [
  {
   "cell_type": "code",
   "execution_count": 89,
   "id": "strange-corner",
   "metadata": {},
   "outputs": [],
   "source": [
    "import os\n",
    "import json\n",
    "\n",
    "def parser_config(rule):\n",
    "    \"\"\"\n",
    "    Parameters\n",
    "    ----------\n",
    "    rule: str\n",
    "        example: model.mercer.rebuild\n",
    "    \n",
    "    Returns\n",
    "    -------\n",
    "    target_path: str or dict\n",
    "        datas folder...\n",
    "    exception_dic: dic\n",
    "        error message\n",
    "    \n",
    "    Examples\n",
    "    --------\n",
    "    model_mercer = parser_config(rule='model.mercer.rebuild')\n",
    "    \"\"\"\n",
    "    try:\n",
    "        config_file = os.path.join(os.path.dirname(os.path.realpath(__name__)), '../config/config.json')\n",
    "        print(config_file)\n",
    "        if not os.path.isfile(config_file):\n",
    "            raise Exception('File Not Found')\n",
    "\n",
    "        with open(config_file) as file:\n",
    "            json_file = json.load(file)\n",
    "            rule_array = rule.split('.')\n",
    "            for i in range(len(rule_array)):\n",
    "                rule_str = rule_array[i]\n",
    "                if rule_str not in json_file.keys():\n",
    "                    raise Exception('Key Not Found Error')\n",
    "                json_file = json_file[rule_str]\n",
    "            return json_file\n",
    "    except Exception as e:\n",
    "        return {'Error'  : e.args[0]}\n"
   ]
  },
  {
   "cell_type": "code",
   "execution_count": 90,
   "id": "virgin-quest",
   "metadata": {},
   "outputs": [
    {
     "name": "stdout",
     "output_type": "stream",
     "text": [
      "/home/dwkim/project/labranchor_v2/../config/config.json\n"
     ]
    }
   ],
   "source": [
    "new =parser_config('models.mercer.rebuild')"
   ]
  },
  {
   "cell_type": "code",
   "execution_count": null,
   "id": "numerous-eleven",
   "metadata": {},
   "outputs": [],
   "source": []
  },
  {
   "cell_type": "code",
   "execution_count": null,
   "id": "pleased-central",
   "metadata": {},
   "outputs": [],
   "source": []
  },
  {
   "cell_type": "code",
   "execution_count": null,
   "id": "addressed-bulgaria",
   "metadata": {},
   "outputs": [],
   "source": []
  }
 ],
 "metadata": {
  "kernelspec": {
   "display_name": "Python .conda-kaist",
   "language": "python",
   "name": "conda-env-.conda-kaist-py"
  },
  "language_info": {
   "codemirror_mode": {
    "name": "ipython",
    "version": 3
   },
   "file_extension": ".py",
   "mimetype": "text/x-python",
   "name": "python",
   "nbconvert_exporter": "python",
   "pygments_lexer": "ipython3",
   "version": "3.8.10"
  }
 },
 "nbformat": 4,
 "nbformat_minor": 5
}
