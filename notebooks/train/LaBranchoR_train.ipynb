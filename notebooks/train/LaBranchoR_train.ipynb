{
 "cells": [
  {
   "cell_type": "markdown",
   "id": "automatic-timothy",
   "metadata": {},
   "source": [
    "### Module import"
   ]
  },
  {
   "cell_type": "code",
   "execution_count": 74,
   "id": "fifty-blair",
   "metadata": {},
   "outputs": [],
   "source": [
    "import numpy as np\n",
    "import seaborn as sns\n",
    "import matplotlib.pyplot as plt\n",
    "from sklearn import metrics\n",
    "import pandas as pd\n",
    "\n",
    "from tensorflow.keras import Sequential\n",
    "from tensorflow.keras.layers import Dense, Conv2D, LSTM, Dropout, Reshape\n",
    "from tensorflow.keras.layers import Bidirectional, TimeDistributed\n",
    "from tensorflow.keras import regularizers, optimizers\n",
    "from tensorflow.keras.models import load_model\n",
    "\n",
    "\n",
    "\"\"\"\n",
    "import tqdm\n",
    "import sys\n",
    "from IPython.lib import deepreload \n",
    "\n",
    "stdout = sys.stdout\n",
    "sys.stdout = open('junk','w')\n",
    "deepreload.reload(tqdm)\n",
    "sys.stdout = stdout\n",
    "\"\"\"\n",
    "%matplotlib inline"
   ]
  },
  {
   "cell_type": "code",
   "execution_count": 75,
   "id": "statewide-thumb",
   "metadata": {},
   "outputs": [
    {
     "data": {
      "text/plain": [
       "\"\\nfile_path = '/home/dwkim/anno/introns_to_mercer.tsv'\\nintrons = {}\\nwith open(file_path) as fp:\\n    for line in fp:\\n        chrom, start, end, _, pos, strand, _, bp = line.split('\\t')[:8]\\n        \\n        bp, start, end = int(bp), int(start), int(end)\\n        \\n        three = end if strand == '+' else start  \\n        key = (chrom, three, strand)\\n        print(start, end, three, strand, bp)\\n        \\n        if not 5 < abs(bp - three) < 60:\\n            bp = -1\\n        # this code have error : cause always first data is null array \\n        if key not in introns: introns[key] = []\\n        assert bp not in introns[key], bp\\n        # why reinsert bp data?\\n        if bp != -1: introns[key] += [bp]\\n\""
      ]
     },
     "execution_count": 75,
     "metadata": {},
     "output_type": "execute_result"
    }
   ],
   "source": [
    "\"\"\"\n",
    "file_path = '/home/dwkim/anno/introns_to_mercer.tsv'\n",
    "introns = {}\n",
    "with open(file_path) as fp:\n",
    "    for line in fp:\n",
    "        chrom, start, end, _, pos, strand, _, bp = line.split('\\t')[:8]\n",
    "        \n",
    "        bp, start, end = int(bp), int(start), int(end)\n",
    "        \n",
    "        three = end if strand == '+' else start  \n",
    "        key = (chrom, three, strand)\n",
    "        print(start, end, three, strand, bp)\n",
    "        \n",
    "        if not 5 < abs(bp - three) < 60:\n",
    "            bp = -1\n",
    "        # this code have error : cause always first data is null array \n",
    "        if key not in introns: introns[key] = []\n",
    "        assert bp not in introns[key], bp\n",
    "        # why reinsert bp data?\n",
    "        if bp != -1: introns[key] += [bp]\n",
    "\"\"\""
   ]
  },
  {
   "cell_type": "code",
   "execution_count": 76,
   "id": "civic-attention",
   "metadata": {},
   "outputs": [
    {
     "name": "stdout",
     "output_type": "stream",
     "text": [
      "37110\n",
      "169182\n"
     ]
    }
   ],
   "source": [
    "known   = {key: value for key, value in introns.items() if value} # brancho point is not null\n",
    "missing = {key: value for key, value in introns.items() if not value} # branch point is null\n",
    "print(len(known))\n",
    "print(len(missing))"
   ]
  },
  {
   "cell_type": "code",
   "execution_count": 77,
   "id": "shaped-surfing",
   "metadata": {},
   "outputs": [
    {
     "ename": "NameError",
     "evalue": "name 'genome' is not defined",
     "output_type": "error",
     "traceback": [
      "\u001b[0;31m---------------------------------------------------------------------------\u001b[0m",
      "\u001b[0;31mNameError\u001b[0m                                 Traceback (most recent call last)",
      "\u001b[0;32m/tmp/ipykernel_89395/3971534897.py\u001b[0m in \u001b[0;36m<module>\u001b[0;34m\u001b[0m\n\u001b[1;32m     17\u001b[0m \u001b[0;34m\u001b[0m\u001b[0m\n\u001b[1;32m     18\u001b[0m     \u001b[0;31m# Get features\u001b[0m\u001b[0;34m\u001b[0m\u001b[0;34m\u001b[0m\u001b[0;34m\u001b[0m\u001b[0m\n\u001b[0;32m---> 19\u001b[0;31m     \u001b[0mseq\u001b[0m \u001b[0;34m=\u001b[0m \u001b[0mgenome\u001b[0m\u001b[0;34m.\u001b[0m\u001b[0mget_seq\u001b[0m\u001b[0;34m(\u001b[0m\u001b[0mchrom\u001b[0m\u001b[0;34m,\u001b[0m \u001b[0mbegin\u001b[0m\u001b[0;34m,\u001b[0m \u001b[0mstop\u001b[0m\u001b[0;34m,\u001b[0m \u001b[0mstrand\u001b[0m\u001b[0;34m)\u001b[0m\u001b[0;34m\u001b[0m\u001b[0;34m\u001b[0m\u001b[0m\n\u001b[0m\u001b[1;32m     20\u001b[0m     \u001b[0;32mif\u001b[0m \u001b[0;34m'N'\u001b[0m \u001b[0;32min\u001b[0m \u001b[0mseq\u001b[0m\u001b[0;34m:\u001b[0m \u001b[0mseq\u001b[0m \u001b[0;34m=\u001b[0m \u001b[0mseq\u001b[0m\u001b[0;34m.\u001b[0m\u001b[0mreplace\u001b[0m\u001b[0;34m(\u001b[0m\u001b[0;34m'N'\u001b[0m\u001b[0;34m,\u001b[0m \u001b[0;34m'A'\u001b[0m\u001b[0;34m)\u001b[0m\u001b[0;34m\u001b[0m\u001b[0;34m\u001b[0m\u001b[0m\n\u001b[1;32m     21\u001b[0m \u001b[0;34m\u001b[0m\u001b[0m\n",
      "\u001b[0;31mNameError\u001b[0m: name 'genome' is not defined"
     ]
    }
   ],
   "source": [
    "L = 70\n",
    "bases = ['A', 'C', 'G', 'T']\n",
    "\n",
    "def onehot(seq):\n",
    "    X = np.zeros((len(seq), len(bases)))\n",
    "    for i, char in enumerate(seq):\n",
    "        X[i, bases.index(char)] = 1\n",
    "    return X\n",
    "\n",
    "X, y, chroms = [], [], []\n",
    "for intron, bps in known.items():\n",
    "    chrom, three, strand = intron\n",
    "    if strand == '+':\n",
    "        begin, stop = three - L, three\n",
    "    else:\n",
    "        begin, stop = three, three + L\n",
    "    \n",
    "    # Get features\n",
    "    seq = genome.get_seq(chrom, begin, stop, strand)\n",
    "    if 'N' in seq: seq = seq.replace('N', 'A')\n",
    "    \n",
    "    X += [onehot(seq).reshape(1, 70, 4)]\n",
    "\n",
    "    # Make target\n",
    "    _y = np.zeros((stop - begin,))\n",
    "    for bp in bps:\n",
    "        if strand == '+':\n",
    "            bp = L + bp - three\n",
    "        else:\n",
    "            bp = L - bp + three - 1\n",
    "        _y[bp] = 1\n",
    "    y += [_y]\n",
    "    \n",
    "    chroms += [chrom]\n",
    "\n",
    "X, y = np.vstack(X), np.vstack(y)\n",
    "print(X.shape, y.shape, len(chroms))"
   ]
  },
  {
   "cell_type": "code",
   "execution_count": null,
   "id": "aboriginal-novel",
   "metadata": {},
   "outputs": [],
   "source": []
  },
  {
   "cell_type": "code",
   "execution_count": 81,
   "id": "official-raleigh",
   "metadata": {},
   "outputs": [
    {
     "data": {
      "text/plain": [
       "'/home/dwkim/project/labranchor_v2/notebooks'"
      ]
     },
     "execution_count": 81,
     "metadata": {},
     "output_type": "execute_result"
    }
   ],
   "source": [
    "import os\n",
    "\n",
    "os.path.dirname(os.path.realpath(__name__))"
   ]
  },
  {
   "cell_type": "code",
   "execution_count": null,
   "id": "active-infrared",
   "metadata": {},
   "outputs": [],
   "source": []
  },
  {
   "cell_type": "code",
   "execution_count": 82,
   "id": "sublime-bubble",
   "metadata": {},
   "outputs": [
    {
     "name": "stdout",
     "output_type": "stream",
     "text": [
      "(25711, 70, 4) (7093, 70, 4) (4306, 70, 4)\n",
      "(25711, 70) (7093, 70) (4306, 70)\n"
     ]
    }
   ],
   "source": [
    "X_train, X_valid, X_test = np.load('./X_train.npy'), np.load('./X_valid.npy'), np.load('./X_test.npy')\n",
    "y_train, y_valid, y_test = np.load('./Y_train.npy'), np.load('./Y_valid.npy'), np.load('./Y_test.npy')\n",
    "print(X_train.shape, X_valid.shape, X_test.shape)\n",
    "print(y_train.shape, y_valid.shape, y_test.shape)"
   ]
  },
  {
   "cell_type": "code",
   "execution_count": null,
   "id": "favorite-priority",
   "metadata": {},
   "outputs": [],
   "source": []
  },
  {
   "cell_type": "code",
   "execution_count": 83,
   "id": "missing-westminster",
   "metadata": {},
   "outputs": [],
   "source": [
    "def matching(preds, true):\n",
    "    total, match = 0, 0\n",
    "    for p, t in zip(preds, true):\n",
    "        if np.argmax(p) in np.nonzero(t)[0]:\n",
    "            match += 1\n",
    "        total += 1\n",
    "    return match, total"
   ]
  },
  {
   "cell_type": "code",
   "execution_count": 84,
   "id": "stone-publicity",
   "metadata": {},
   "outputs": [
    {
     "name": "stdout",
     "output_type": "stream",
     "text": [
      "[[ 8658.  8037.  8984. 20929.  9468.  9994.  9281.]\n",
      " [12046.  8055. 11683.  6820. 11738. 11016. 10508.]\n",
      " [ 8100.  7269.  8965.  5728.  8041.  7817.  8519.]\n",
      " [10247. 15690.  9419.  5574.  9804. 10224. 10743.]]\n"
     ]
    }
   ],
   "source": [
    "K = 3\n",
    "counts = np.zeros((2*K+1, 4))\n",
    "for target, seq in zip(y_train, X_train):\n",
    "    for bp in np.nonzero(target)[0]:\n",
    "        if 0 > bp-K or bp+K+1 > seq.shape[0]: continue\n",
    "        counts = counts + seq[bp-K: bp+K+1]\n",
    "print(counts.T)"
   ]
  },
  {
   "cell_type": "code",
   "execution_count": 89,
   "id": "synthetic-speed",
   "metadata": {},
   "outputs": [],
   "source": [
    "class ModelTrainer:\n",
    "    def __init__(self, model):\n",
    "        self.model = model\n",
    "        self.train_auc = []\n",
    "        self.train_match = []\n",
    "        self.valid_auc = []\n",
    "        self.valid_match = []\n",
    "        \n",
    "    def train(self, X_train, X_valid,\n",
    "              y_train, y_valid, PATIENCE = 15, EPOCHS = 50):\n",
    "        print(self.model.summary())\n",
    "        #tqdm_callback = tfa.callbacks.TQDMProgressBar()\n",
    "        for i in range(EPOCHS):\n",
    "            self.model.fit(X_train, y_train, epochs = 1, verbose = 0, batch_size = 32)\n",
    "            self._evaluate(X_train, X_valid, y_train, y_valid)\n",
    "            if (i > PATIENCE\n",
    "                and max(self.valid_match[-PATIENCE:])\n",
    "                < max(self.valid_match)):\n",
    "                break\n",
    "            print(i, self.valid_match[-1], self.train_match[-1])\n",
    "        self._plot_scores()\n",
    "        print(max(self.valid_match), max(self.valid_auc))\n",
    "    \n",
    "    def predict(X):\n",
    "        return self.model.predict(X)\n",
    "                \n",
    "    def _evaluate(self, X_train, X_valid, y_train, y_valid):\n",
    "        valid_preds = self.model.predict(X_valid, verbose=0)\n",
    "        train_preds = self.model.predict(X_train, verbose=0)\n",
    "        self.valid_match += [matching(valid_preds, y_valid)[0]\n",
    "                             / float(y_valid.shape[0])]\n",
    "        self.train_match += [matching(train_preds, y_train)[0]\n",
    "                             / float(y_train.shape[0])]\n",
    "        self.valid_auc += [metrics.roc_auc_score(y_valid.flatten(),\n",
    "                                                 valid_preds.flatten())]\n",
    "        self.train_auc += [metrics.roc_auc_score(y_train.flatten(),\n",
    "                                                 train_preds.flatten())]\n",
    "    \n",
    "    def _plot_scores(self):\n",
    "        plt.plot(self.valid_match, label = 'Validation')\n",
    "        plt.plot(self.train_match, label = 'Training')\n",
    "        plt.ylabel('Match')\n",
    "        plt.xlabel('epoch')\n",
    "        plt.legend()\n",
    "        plt.show()\n",
    "        \n",
    "        plt.plot(self.valid_auc, label = 'Validation')\n",
    "        plt.plot(self.train_auc, label = 'Training')\n",
    "        plt.ylabel('auROC') \n",
    "        plt.xlabel('epoch')\n",
    "        plt.legend()\n",
    "        plt.show()"
   ]
  },
  {
   "cell_type": "code",
   "execution_count": null,
   "id": "forced-induction",
   "metadata": {},
   "outputs": [],
   "source": []
  },
  {
   "cell_type": "code",
   "execution_count": null,
   "id": "veterinary-electric",
   "metadata": {},
   "outputs": [],
   "source": []
  },
  {
   "cell_type": "code",
   "execution_count": 90,
   "id": "correct-burton",
   "metadata": {},
   "outputs": [
    {
     "name": "stdout",
     "output_type": "stream",
     "text": [
      "WARNING:tensorflow:Layer lstm will not use cuDNN kernels since it doesn't meet the criteria. It will use a generic GPU kernel as fallback when running on GPU.\n",
      "WARNING:tensorflow:Layer lstm will not use cuDNN kernels since it doesn't meet the criteria. It will use a generic GPU kernel as fallback when running on GPU.\n",
      "WARNING:tensorflow:Layer lstm will not use cuDNN kernels since it doesn't meet the criteria. It will use a generic GPU kernel as fallback when running on GPU.\n",
      "WARNING:tensorflow:Layer lstm_1 will not use cuDNN kernels since it doesn't meet the criteria. It will use a generic GPU kernel as fallback when running on GPU.\n",
      "WARNING:tensorflow:Layer lstm_1 will not use cuDNN kernels since it doesn't meet the criteria. It will use a generic GPU kernel as fallback when running on GPU.\n",
      "WARNING:tensorflow:Layer lstm_1 will not use cuDNN kernels since it doesn't meet the criteria. It will use a generic GPU kernel as fallback when running on GPU.\n",
      "Model: \"sequential\"\n",
      "_________________________________________________________________\n",
      " Layer (type)                Output Shape              Param #   \n",
      "=================================================================\n",
      " bidirectional (Bidirectiona  (None, 70, 64)           9472      \n",
      " l)                                                              \n",
      "                                                                 \n",
      " bidirectional_1 (Bidirectio  (None, 70, 64)           24832     \n",
      " nal)                                                            \n",
      "                                                                 \n",
      " time_distributed (TimeDistr  (None, 70, 1)            65        \n",
      " ibuted)                                                         \n",
      "                                                                 \n",
      "=================================================================\n",
      "Total params: 34,369\n",
      "Trainable params: 34,369\n",
      "Non-trainable params: 0\n",
      "_________________________________________________________________\n"
     ]
    }
   ],
   "source": [
    "new_model = load_model('./2layer2.h5')\n",
    "new_model.summary()"
   ]
  },
  {
   "cell_type": "code",
   "execution_count": 91,
   "id": "incredible-cooler",
   "metadata": {},
   "outputs": [
    {
     "name": "stdout",
     "output_type": "stream",
     "text": [
      "Model: \"sequential\"\n",
      "_________________________________________________________________\n",
      " Layer (type)                Output Shape              Param #   \n",
      "=================================================================\n",
      " bidirectional (Bidirectiona  (None, 70, 64)           9472      \n",
      " l)                                                              \n",
      "                                                                 \n",
      " bidirectional_1 (Bidirectio  (None, 70, 64)           24832     \n",
      " nal)                                                            \n",
      "                                                                 \n",
      " time_distributed (TimeDistr  (None, 70, 1)            65        \n",
      " ibuted)                                                         \n",
      "                                                                 \n",
      "=================================================================\n",
      "Total params: 34,369\n",
      "Trainable params: 34,369\n",
      "Non-trainable params: 0\n",
      "_________________________________________________________________\n",
      "None\n"
     ]
    },
    {
     "name": "stderr",
     "output_type": "stream",
     "text": [
      "2021-12-08 15:25:46.497849: I tensorflow/stream_executor/cuda/cuda_blas.cc:1774] TensorFloat-32 will be used for the matrix multiplication. This will only be logged once.\n"
     ]
    },
    {
     "name": "stdout",
     "output_type": "stream",
     "text": [
      "0 0.611870858592979 0.6746917661701217\n",
      "1 0.6110249541801777 0.6761308389405313\n",
      "2 0.593119977442549 0.6673797207420948\n",
      "3 0.6113069223177781 0.6740305705729065\n",
      "4 0.596926547300155 0.651666601843569\n",
      "5 0.6125757789369801 0.6697522461203376\n",
      "6 0.598759340194558 0.6555948815682003\n",
      "7 0.6127167630057804 0.672863754813115\n",
      "8 0.6203299027209925 0.6760141573645522\n",
      "9 0.6103200338361765 0.6706856987281709\n",
      "10 0.6066544480473707 0.669830033837657\n",
      "11 0.6196249823769914 0.6800980125238225\n",
      "12 0.6039757507401664 0.6627902454202481\n",
      "13 0.5580149443112928 0.6210182412197114\n",
      "14 0.5874806146905399 0.6588619656956166\n",
      "15 0.6021429578457634 0.6637236980280814\n",
      "16 0.6128577470745806 0.6784644704601144\n",
      "17 0.611870858592979 0.6661740111236436\n",
      "18 0.614972508106584 0.6755863249192953\n",
      "19 0.5392640631608628 0.6016102057485123\n",
      "20 0.6111659382489779 0.6728248609544553\n",
      "21 0.6098970816297759 0.6716969390533235\n",
      "22 0.6125757789369801 0.6748473416047606\n"
     ]
    },
    {
     "data": {
      "image/png": "[encoded data removed]",
      "text/plain": [
       "<Figure size 432x288 with 1 Axes>"
      ]
     },
     "metadata": {
      "needs_background": "light"
     },
     "output_type": "display_data"
    },
    {
     "data": {
      "image/png": "[encoded data removed]",
      "text/plain": [
       "<Figure size 432x288 with 1 Axes>"
      ]
     },
     "metadata": {
      "needs_background": "light"
     },
     "output_type": "display_data"
    },
    {
     "name": "stdout",
     "output_type": "stream",
     "text": [
      "0.6203299027209925 0.9610038761547732\n"
     ]
    }
   ],
   "source": [
    "ModelTrainer(model=new_model).train(X_train[:, :, :4], X_valid[:, :, :4],\n",
    "                          y_train.reshape(-1, 70, 1), y_valid.reshape(-1, 70, 1))"
   ]
  },
  {
   "cell_type": "code",
   "execution_count": 94,
   "id": "numerical-yukon",
   "metadata": {},
   "outputs": [],
   "source": [
    "new_model.save('./2layer2.h5')\n"
   ]
  },
  {
   "cell_type": "code",
   "execution_count": null,
   "id": "expired-cover",
   "metadata": {},
   "outputs": [],
   "source": []
  },
  {
   "cell_type": "code",
   "execution_count": 3,
   "id": "divine-velvet",
   "metadata": {},
   "outputs": [],
   "source": []
  },
  {
   "cell_type": "code",
   "execution_count": 92,
   "id": "simplified-nicholas",
   "metadata": {},
   "outputs": [
    {
     "data": {
      "text/html": [
       "<div>\n",
       "<style scoped>\n",
       "    .dataframe tbody tr th:only-of-type {\n",
       "        vertical-align: middle;\n",
       "    }\n",
       "\n",
       "    .dataframe tbody tr th {\n",
       "        vertical-align: top;\n",
       "    }\n",
       "\n",
       "    .dataframe thead th {\n",
       "        text-align: right;\n",
       "    }\n",
       "</style>\n",
       "<table border=\"1\" class=\"dataframe\">\n",
       "  <thead>\n",
       "    <tr style=\"text-align: right;\">\n",
       "      <th></th>\n",
       "      <th>chr1</th>\n",
       "      <th>135802</th>\n",
       "      <th>135902</th>\n",
       "      <th>ENSG00000237683.5:ENST00000423372.3:AL627309.1</th>\n",
       "      <th>137620</th>\n",
       "      <th>-</th>\n",
       "      <th>.</th>\n",
       "      <th>-1</th>\n",
       "      <th>-1.1</th>\n",
       "      <th>..1</th>\n",
       "      <th>-1.2</th>\n",
       "      <th>..2</th>\n",
       "    </tr>\n",
       "  </thead>\n",
       "  <tbody>\n",
       "    <tr>\n",
       "      <th>0</th>\n",
       "      <td>chr1</td>\n",
       "      <td>738618</td>\n",
       "      <td>738718</td>\n",
       "      <td>ENSG00000269831.1:ENST00000599533.1:AL669831.1</td>\n",
       "      <td>738787</td>\n",
       "      <td>-</td>\n",
       "      <td>.</td>\n",
       "      <td>-1</td>\n",
       "      <td>-1</td>\n",
       "      <td>.</td>\n",
       "      <td>-1</td>\n",
       "      <td>.</td>\n",
       "    </tr>\n",
       "    <tr>\n",
       "      <th>1</th>\n",
       "      <td>chr1</td>\n",
       "      <td>738812</td>\n",
       "      <td>738912</td>\n",
       "      <td>ENSG00000269831.1:ENST00000599533.1:AL669831.1</td>\n",
       "      <td>739120</td>\n",
       "      <td>-</td>\n",
       "      <td>.</td>\n",
       "      <td>-1</td>\n",
       "      <td>-1</td>\n",
       "      <td>.</td>\n",
       "      <td>-1</td>\n",
       "      <td>.</td>\n",
       "    </tr>\n",
       "    <tr>\n",
       "      <th>2</th>\n",
       "      <td>chr1</td>\n",
       "      <td>819395</td>\n",
       "      <td>819495</td>\n",
       "      <td>ENSG00000269308.1:ENST00000594233.1:AL645608.2</td>\n",
       "      <td>818058</td>\n",
       "      <td>+</td>\n",
       "      <td>.</td>\n",
       "      <td>-1</td>\n",
       "      <td>-1</td>\n",
       "      <td>.</td>\n",
       "      <td>-1</td>\n",
       "      <td>.</td>\n",
       "    </tr>\n",
       "    <tr>\n",
       "      <th>3</th>\n",
       "      <td>chr1</td>\n",
       "      <td>819860</td>\n",
       "      <td>819960</td>\n",
       "      <td>ENSG00000269308.1:ENST00000594233.1:AL645608.2</td>\n",
       "      <td>819513</td>\n",
       "      <td>+</td>\n",
       "      <td>.</td>\n",
       "      <td>-1</td>\n",
       "      <td>-1</td>\n",
       "      <td>.</td>\n",
       "      <td>-1</td>\n",
       "      <td>.</td>\n",
       "    </tr>\n",
       "    <tr>\n",
       "      <th>4</th>\n",
       "      <td>chr1</td>\n",
       "      <td>861201</td>\n",
       "      <td>861301</td>\n",
       "      <td>ENSG00000187634.6:ENST00000420190.1:SAMD11</td>\n",
       "      <td>860328</td>\n",
       "      <td>+</td>\n",
       "      <td>chr1</td>\n",
       "      <td>861273</td>\n",
       "      <td>861274</td>\n",
       "      <td>chr1_861273_861274_A</td>\n",
       "      <td>0</td>\n",
       "      <td>+</td>\n",
       "    </tr>\n",
       "    <tr>\n",
       "      <th>...</th>\n",
       "      <td>...</td>\n",
       "      <td>...</td>\n",
       "      <td>...</td>\n",
       "      <td>...</td>\n",
       "      <td>...</td>\n",
       "      <td>...</td>\n",
       "      <td>...</td>\n",
       "      <td>...</td>\n",
       "      <td>...</td>\n",
       "      <td>...</td>\n",
       "      <td>...</td>\n",
       "      <td>...</td>\n",
       "    </tr>\n",
       "    <tr>\n",
       "      <th>227042</th>\n",
       "      <td>chrY</td>\n",
       "      <td>59337019</td>\n",
       "      <td>59337119</td>\n",
       "      <td>ENSGR0000124334.12:ENSTR0000369423.2:IL9R</td>\n",
       "      <td>59336526</td>\n",
       "      <td>+</td>\n",
       "      <td>.</td>\n",
       "      <td>-1</td>\n",
       "      <td>-1</td>\n",
       "      <td>.</td>\n",
       "      <td>-1</td>\n",
       "      <td>.</td>\n",
       "    </tr>\n",
       "    <tr>\n",
       "      <th>227043</th>\n",
       "      <td>chrY</td>\n",
       "      <td>59337848</td>\n",
       "      <td>59337948</td>\n",
       "      <td>ENSGR0000124334.12:ENSTR0000244174.5:IL9R</td>\n",
       "      <td>59337236</td>\n",
       "      <td>+</td>\n",
       "      <td>.</td>\n",
       "      <td>-1</td>\n",
       "      <td>-1</td>\n",
       "      <td>.</td>\n",
       "      <td>-1</td>\n",
       "      <td>.</td>\n",
       "    </tr>\n",
       "    <tr>\n",
       "      <th>227044</th>\n",
       "      <td>chrY</td>\n",
       "      <td>59338653</td>\n",
       "      <td>59338753</td>\n",
       "      <td>ENSGR0000124334.12:ENSTR0000244174.5:IL9R</td>\n",
       "      <td>59338150</td>\n",
       "      <td>+</td>\n",
       "      <td>.</td>\n",
       "      <td>-1</td>\n",
       "      <td>-1</td>\n",
       "      <td>.</td>\n",
       "      <td>-1</td>\n",
       "      <td>.</td>\n",
       "    </tr>\n",
       "    <tr>\n",
       "      <th>227045</th>\n",
       "      <td>chrY</td>\n",
       "      <td>59340093</td>\n",
       "      <td>59340193</td>\n",
       "      <td>ENSGR0000124334.12:ENSTR0000244174.5:IL9R</td>\n",
       "      <td>59338859</td>\n",
       "      <td>+</td>\n",
       "      <td>.</td>\n",
       "      <td>-1</td>\n",
       "      <td>-1</td>\n",
       "      <td>.</td>\n",
       "      <td>-1</td>\n",
       "      <td>.</td>\n",
       "    </tr>\n",
       "    <tr>\n",
       "      <th>227046</th>\n",
       "      <td>chrY</td>\n",
       "      <td>59342386</td>\n",
       "      <td>59342486</td>\n",
       "      <td>ENSGR0000124334.12:ENSTR0000244174.5:IL9R</td>\n",
       "      <td>59340278</td>\n",
       "      <td>+</td>\n",
       "      <td>.</td>\n",
       "      <td>-1</td>\n",
       "      <td>-1</td>\n",
       "      <td>.</td>\n",
       "      <td>-1</td>\n",
       "      <td>.</td>\n",
       "    </tr>\n",
       "  </tbody>\n",
       "</table>\n",
       "<p>227047 rows × 12 columns</p>\n",
       "</div>"
      ],
      "text/plain": [
       "        chr1    135802    135902  \\\n",
       "0       chr1    738618    738718   \n",
       "1       chr1    738812    738912   \n",
       "2       chr1    819395    819495   \n",
       "3       chr1    819860    819960   \n",
       "4       chr1    861201    861301   \n",
       "...      ...       ...       ...   \n",
       "227042  chrY  59337019  59337119   \n",
       "227043  chrY  59337848  59337948   \n",
       "227044  chrY  59338653  59338753   \n",
       "227045  chrY  59340093  59340193   \n",
       "227046  chrY  59342386  59342486   \n",
       "\n",
       "        ENSG00000237683.5:ENST00000423372.3:AL627309.1    137620  -     .  \\\n",
       "0       ENSG00000269831.1:ENST00000599533.1:AL669831.1    738787  -     .   \n",
       "1       ENSG00000269831.1:ENST00000599533.1:AL669831.1    739120  -     .   \n",
       "2       ENSG00000269308.1:ENST00000594233.1:AL645608.2    818058  +     .   \n",
       "3       ENSG00000269308.1:ENST00000594233.1:AL645608.2    819513  +     .   \n",
       "4           ENSG00000187634.6:ENST00000420190.1:SAMD11    860328  +  chr1   \n",
       "...                                                ...       ... ..   ...   \n",
       "227042       ENSGR0000124334.12:ENSTR0000369423.2:IL9R  59336526  +     .   \n",
       "227043       ENSGR0000124334.12:ENSTR0000244174.5:IL9R  59337236  +     .   \n",
       "227044       ENSGR0000124334.12:ENSTR0000244174.5:IL9R  59338150  +     .   \n",
       "227045       ENSGR0000124334.12:ENSTR0000244174.5:IL9R  59338859  +     .   \n",
       "227046       ENSGR0000124334.12:ENSTR0000244174.5:IL9R  59340278  +     .   \n",
       "\n",
       "            -1    -1.1                   ..1  -1.2 ..2  \n",
       "0           -1      -1                     .    -1   .  \n",
       "1           -1      -1                     .    -1   .  \n",
       "2           -1      -1                     .    -1   .  \n",
       "3           -1      -1                     .    -1   .  \n",
       "4       861273  861274  chr1_861273_861274_A     0   +  \n",
       "...        ...     ...                   ...   ...  ..  \n",
       "227042      -1      -1                     .    -1   .  \n",
       "227043      -1      -1                     .    -1   .  \n",
       "227044      -1      -1                     .    -1   .  \n",
       "227045      -1      -1                     .    -1   .  \n",
       "227046      -1      -1                     .    -1   .  \n",
       "\n",
       "[227047 rows x 12 columns]"
      ]
     },
     "execution_count": 92,
     "metadata": {},
     "output_type": "execute_result"
    }
   ],
   "source": [
    "import pandas as pd\n",
    "pd.read_csv('/home/dwkim/anno/introns_to_mercer.tsv', sep=\"\\t\")"
   ]
  },
  {
   "cell_type": "code",
   "execution_count": 45,
   "id": "listed-porcelain",
   "metadata": {},
   "outputs": [],
   "source": [
    "import re\n",
    "seq ='chr1:925952-925952G>A'"
   ]
  },
  {
   "cell_type": "code",
   "execution_count": 46,
   "id": "improved-directive",
   "metadata": {},
   "outputs": [],
   "source": [
    "reg = '([^:]+):([0-9,]+)-([0-9,]+)([actgaACTG]+)([>]+)([actgACTG]+)'\n",
    "\n",
    "rm = re.match(reg, seq)\n",
    "\n",
    "#if rm.group(4) == ('>' or '<'):\n",
    "    "
   ]
  },
  {
   "cell_type": "code",
   "execution_count": 47,
   "id": "monetary-director",
   "metadata": {},
   "outputs": [
    {
     "data": {
      "text/plain": [
       "'>'"
      ]
     },
     "execution_count": 47,
     "metadata": {},
     "output_type": "execute_result"
    }
   ],
   "source": [
    "rm.group(5)"
   ]
  },
  {
   "cell_type": "code",
   "execution_count": 49,
   "id": "clear-assignment",
   "metadata": {},
   "outputs": [
    {
     "name": "stdout",
     "output_type": "stream",
     "text": [
      "chr1:925952-925952 G>A\n"
     ]
    }
   ],
   "source": [
    "if rm != None:\n",
    "    if rm.group(5) == ('>' or '<'):\n",
    "        print(f\"{rm.group(1)}:{rm.group(2)}-{rm.group(3)} {rm.group(4)}{rm.group(5)}{rm.group(6)}\")\n"
   ]
  },
  {
   "cell_type": "code",
   "execution_count": 51,
   "id": "pursuant-punch",
   "metadata": {},
   "outputs": [],
   "source": [
    "import numpy as np\n",
    "cal = [-3.85, -3.85]"
   ]
  },
  {
   "cell_type": "code",
   "execution_count": 52,
   "id": "instrumental-password",
   "metadata": {},
   "outputs": [
    {
     "data": {
      "text/plain": [
       "-3.85"
      ]
     },
     "execution_count": 52,
     "metadata": {},
     "output_type": "execute_result"
    }
   ],
   "source": [
    "np.mean(cal)"
   ]
  },
  {
   "cell_type": "code",
   "execution_count": null,
   "id": "narrative-saturday",
   "metadata": {},
   "outputs": [],
   "source": []
  }
 ],
 "metadata": {
  "kernelspec": {
   "display_name": "Python .conda-kaist",
   "language": "python",
   "name": "conda-env-.conda-kaist-py"
  },
  "language_info": {
   "codemirror_mode": {
    "name": "ipython",
    "version": 3
   },
   "file_extension": ".py",
   "mimetype": "text/x-python",
   "name": "python",
   "nbconvert_exporter": "python",
   "pygments_lexer": "ipython3",
   "version": "3.8.10"
  }
 },
 "nbformat": 4,
 "nbformat_minor": 5
}
