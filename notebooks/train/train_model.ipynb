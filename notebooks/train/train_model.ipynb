{
 "cells": [
  {
   "cell_type": "markdown",
   "metadata": {},
   "source": [
    "# Model Training\n",
    "\n",
    "Contents\n",
    "- Process data into one-hot encoded sequence vectors and targets.\n",
    "- Break into train, validation, and test sets.\n",
    "- Perform a modest hyper-parameter search.\n",
    "- Conclude that a variety of hyperparameters result in similar performance. (Actually interesting how similarly they perform.)\n",
    "- Train and save a model to use in rest of analysis."
   ]
  },
  {
   "cell_type": "code",
   "execution_count": 9,
   "metadata": {
    "collapsed": false,
    "jupyter": {
     "outputs_hidden": false
    }
   },
   "outputs": [],
   "source": [
    "import numpy as np\n",
    "import seaborn as sns\n",
    "import matplotlib.pyplot as plt\n",
    "from sklearn import metrics\n",
    "%matplotlib inline"
   ]
  },
  {
   "cell_type": "code",
   "execution_count": 10,
   "metadata": {
    "collapsed": false,
    "jupyter": {
     "outputs_hidden": false
    }
   },
   "outputs": [],
   "source": [
    "import sys\n",
    "#sys.path.append('/home/dwkim/project/labranchor/')\n",
    "#from labranchor.create_fasta import Genome\n",
    "from genome import Genome\n",
    "genome = Genome('/home/dwkim/gencode_v19_raw_data/labranchor.gencode_v19.fa')"
   ]
  },
  {
   "cell_type": "code",
   "execution_count": 11,
   "metadata": {},
   "outputs": [
    {
     "name": "stdout",
     "output_type": "stream",
     "text": [
      "chr1:880179:- ATGAGTAACCTCTAAGGCTGGCTTCTTCCTGATAAAGCAAAATTTATGTAGCCTCCATCTCTCCCCGCAG\n"
     ]
    }
   ],
   "source": [
    "key_make = [ item for item in range(880180-1, 880250+1)]\n",
    "for k, v in genome.genome.items():\n",
    "    if int(k.split(\":\")[1]) in key_make:\n",
    "        print(k, v)"
   ]
  },
  {
   "cell_type": "code",
   "execution_count": 12,
   "metadata": {
    "collapsed": false,
    "jupyter": {
     "outputs_hidden": false
    }
   },
   "outputs": [],
   "source": [
    "introns = {}\n",
    "with open('/home/dwkim/anno/introns_to_mercer.tsv') as fp:\n",
    "    for line in fp:\n",
    "        chrom, start, end, _, pos, strand, _, bp = line.split('\\t')[:8]\n",
    "        bp, start, end = int(bp), int(start), int(end)\n",
    "        \n",
    "        three = end if strand == '+' else start  \n",
    "        key = (chrom, three, strand)\n",
    "        \n",
    "        if not 5 < abs(bp - three) < 60:\n",
    "            bp = -1\n",
    "        \n",
    "        if key not in introns: introns[key] = []\n",
    "        assert bp not in introns[key], bp\n",
    "        if bp != -1: introns[key] += [bp]\n"
   ]
  },
  {
   "cell_type": "code",
   "execution_count": 13,
   "metadata": {
    "collapsed": false,
    "jupyter": {
     "outputs_hidden": false
    }
   },
   "outputs": [
    {
     "name": "stdout",
     "output_type": "stream",
     "text": [
      "2145\n"
     ]
    }
   ],
   "source": [
    "# Used to compare to branchpointer\n",
    "c = 0\n",
    "with open('./test.tsv', 'w') as fp:\n",
    "    ID = 0\n",
    "    fp.write('\\t'.join(['id', 'chromsome', 'start', 'end', 'strand']) + '\\n')\n",
    "    for (chrom, three, strand), bp in introns.items():\n",
    "        if not bp or chrom != 'chr1':\n",
    "            continue\n",
    "        if strand == '+':\n",
    "            begin, end = str(three - 70), str(three)\n",
    "        else:\n",
    "            c += 1\n",
    "            begin, end = str(three+1), str(three + 70+1)\n",
    "        \n",
    "        fp.write('\\t'.join([\"chr1_{}_{}\".format(three, strand),\n",
    "                            'chr1', begin, end, strand]) + '\\n')\n",
    "print(c)"
   ]
  },
  {
   "cell_type": "code",
   "execution_count": 14,
   "metadata": {
    "collapsed": false,
    "jupyter": {
     "outputs_hidden": false
    }
   },
   "outputs": [
    {
     "name": "stdout",
     "output_type": "stream",
     "text": [
      "37110\n",
      "169182\n"
     ]
    }
   ],
   "source": [
    "known   = {key: value for key, value in introns.items() if value}\n",
    "missing = {key: value for key, value in introns.items() if not value}\n",
    "print(len(known))\n",
    "print(len(missing))"
   ]
  },
  {
   "cell_type": "code",
   "execution_count": 18,
   "metadata": {
    "collapsed": false,
    "jupyter": {
     "outputs_hidden": false
    }
   },
   "outputs": [
    {
     "name": "stdout",
     "output_type": "stream",
     "text": [
      "1000\n",
      "2000\n",
      "3000\n",
      "4000\n",
      "5000\n",
      "6000\n",
      "7000\n",
      "8000\n",
      "9000\n",
      "10000\n",
      "11000\n",
      "12000\n",
      "13000\n",
      "14000\n",
      "15000\n",
      "16000\n",
      "17000\n",
      "18000\n",
      "19000\n",
      "20000\n",
      "21000\n",
      "22000\n",
      "23000\n",
      "24000\n",
      "25000\n",
      "26000\n",
      "27000\n",
      "28000\n",
      "29000\n",
      "30000\n",
      "31000\n",
      "32000\n",
      "33000\n",
      "34000\n",
      "35000\n",
      "36000\n",
      "37000\n",
      "(37110, 70, 4) (37110, 70) 37110\n"
     ]
    }
   ],
   "source": [
    "L = 70\n",
    "bases = ['A', 'C', 'G', 'T']\n",
    "\n",
    "def onehot(seq):\n",
    "    X = np.zeros((len(seq), len(bases)))\n",
    "    for i, char in enumerate(seq):\n",
    "        X[i, bases.index(char)] = 1\n",
    "    return X\n",
    "\n",
    "count =0 \n",
    "X, y, chroms = [], [], []\n",
    "for intron, bps in known.items():\n",
    "    count+=1\n",
    "    if count % 1000 == 0:\n",
    "        print(count)\n",
    "    chrom, three, strand = intron\n",
    "    if strand == '+':\n",
    "        begin, stop = three - L, three\n",
    "    else:\n",
    "        begin, stop = three, three + L\n",
    "    \n",
    "    # Get features\n",
    "    seq = genome.get_seq(chrom, begin, stop, strand)\n",
    "    #print(seq)\n",
    "    if 'N' in seq: seq = seq.replace('N', 'A')\n",
    "    \n",
    "    X += [onehot(seq).reshape(1, 70, 4)]\n",
    "\n",
    "    # Make target\n",
    "    _y = np.zeros((stop - begin,))\n",
    "    for bp in bps:\n",
    "        if strand == '+':\n",
    "            bp = L + bp - three\n",
    "        else:\n",
    "            bp = L - bp + three - 1\n",
    "        _y[bp] = 1\n",
    "    y += [_y]\n",
    "    \n",
    "    chroms += [chrom]\n",
    "\n",
    "X, y = np.vstack(X), np.vstack(y)\n",
    "print(X.shape, y.shape, len(chroms))"
   ]
  },
  {
   "cell_type": "code",
   "execution_count": 31,
   "metadata": {
    "collapsed": false,
    "jupyter": {
     "outputs_hidden": false
    }
   },
   "outputs": [
    {
     "name": "stdout",
     "output_type": "stream",
     "text": [
      "4306 7093 25711\n",
      "(25711, 70, 4) (7093, 70, 4) (4306, 70, 4)\n",
      "(25711, 70) (7093, 70) (4306, 70)\n"
     ]
    }
   ],
   "source": [
    "### \n",
    "#test = np.array(map(lambda x: x == 'chr1', chroms))\n",
    "#valid = np.array(map(lambda x: x in ('chr2', 'chr3', 'chr4', 'chr5'),\n",
    "#                     chroms))\n",
    "test = np.array(list(map(lambda x: x == 'chr1', chroms)))\n",
    "valid = np.array(list(map(lambda x: x in ('chr2', 'chr3', 'chr4', 'chr5'),\n",
    "                     chroms)))\n",
    "\n",
    "train = np.array([not (t or v) for t, v in zip(test, valid)])\n",
    "print(sum(test),  sum(valid), sum(train))\n",
    "\n",
    "X_train, X_valid, X_test = X[train], X[valid], X[test]\n",
    "y_train, y_valid, y_test = y[train], y[valid], y[test]\n",
    "print(X_train.shape, X_valid.shape, X_test.shape)\n",
    "print(y_train.shape, y_valid.shape, y_test.shape)"
   ]
  },
  {
   "cell_type": "code",
   "execution_count": null,
   "metadata": {},
   "outputs": [],
   "source": []
  },
  {
   "cell_type": "code",
   "execution_count": 32,
   "metadata": {},
   "outputs": [],
   "source": [
    "def matching(preds, true):\n",
    "    total, match = 0, 0\n",
    "    for p, t in zip(preds, true):\n",
    "        if np.argmax(p) in np.nonzero(t)[0]:\n",
    "            match += 1\n",
    "        total += 1\n",
    "    return match, total"
   ]
  },
  {
   "cell_type": "markdown",
   "metadata": {},
   "source": [
    "# Compute PWM as sanity check"
   ]
  },
  {
   "cell_type": "code",
   "execution_count": 33,
   "metadata": {
    "collapsed": false,
    "jupyter": {
     "outputs_hidden": false
    }
   },
   "outputs": [
    {
     "name": "stdout",
     "output_type": "stream",
     "text": [
      "[[ 8658.  8037.  8984. 20929.  9468.  9994.  9281.]\n",
      " [12046.  8055. 11683.  6820. 11738. 11016. 10508.]\n",
      " [ 8100.  7269.  8965.  5728.  8041.  7817.  8519.]\n",
      " [10247. 15690.  9419.  5574.  9804. 10224. 10743.]]\n"
     ]
    }
   ],
   "source": [
    "K = 3\n",
    "counts = np.zeros((2*K+1, 4))\n",
    "for target, seq in zip(y_train, X_train):\n",
    "    for bp in np.nonzero(target)[0]:\n",
    "        if 0 > bp-K or bp+K+1 > seq.shape[0]: continue\n",
    "        counts = counts + seq[bp-K: bp+K+1]\n",
    "print(counts.T)"
   ]
  },
  {
   "cell_type": "markdown",
   "metadata": {},
   "source": [
    "# Model trainer"
   ]
  },
  {
   "cell_type": "code",
   "execution_count": 34,
   "metadata": {
    "collapsed": false,
    "jupyter": {
     "outputs_hidden": false
    }
   },
   "outputs": [],
   "source": [
    "class ModelTrainer:\n",
    "    def __init__(self, model):\n",
    "        self.model = model\n",
    "        self.train_auc = []\n",
    "        self.train_match = []\n",
    "        self.valid_auc = []\n",
    "        self.valid_match = []\n",
    "        \n",
    "    def train(self, X_train, X_valid,\n",
    "              y_train, y_valid, PATIENCE = 15, EPOCHS = 1000):\n",
    "        print(model.summary())\n",
    "        for i in range(EPOCHS):\n",
    "            model.fit(X_train, y_train, epochs = 1, verbose = 0, batch_size = 8)\n",
    "            self._evaluate(X_train, X_valid, y_train, y_valid)\n",
    "            if (i > PATIENCE\n",
    "                and max(self.valid_match[-PATIENCE:])\n",
    "                < max(self.valid_match)):\n",
    "                break\n",
    "            print(i, self.valid_match[-1], self.train_match[-1])\n",
    "        self._plot_scores()\n",
    "        print(max(self.valid_match), max(self.valid_auc))\n",
    "        model.save('./2layer.h5')\n",
    "    \n",
    "    def predict(X):\n",
    "        return self.model.predict(X)\n",
    "                \n",
    "    def _evaluate(self, X_train, X_valid, y_train, y_valid):\n",
    "        valid_preds = self.model.predict(X_valid, verbose=0)\n",
    "        train_preds = self.model.predict(X_train, verbose=0)\n",
    "        self.valid_match += [matching(valid_preds, y_valid)[0]\n",
    "                             / float(y_valid.shape[0])]\n",
    "        self.train_match += [matching(train_preds, y_train)[0]\n",
    "                             / float(y_train.shape[0])]\n",
    "        self.valid_auc += [metrics.roc_auc_score(y_valid.flatten(),\n",
    "                                                 valid_preds.flatten())]\n",
    "        self.train_auc += [metrics.roc_auc_score(y_train.flatten(),\n",
    "                                                 train_preds.flatten())]\n",
    "    \n",
    "    def _plot_scores(self):\n",
    "        plt.plot(self.valid_match, label = 'Validation')\n",
    "        plt.plot(self.train_match, label = 'Training')\n",
    "        plt.ylabel('Match')\n",
    "        plt.xlabel('epoch')\n",
    "        plt.legend()\n",
    "        plt.show()\n",
    "        \n",
    "        plt.plot(self.valid_auc, label = 'Validation')\n",
    "        plt.plot(self.train_auc, label = 'Training')\n",
    "        plt.ylabel('auROC')\n",
    "        plt.xlabel('epoch')\n",
    "        plt.legend()\n",
    "        plt.show()"
   ]
  },
  {
   "cell_type": "code",
   "execution_count": 35,
   "metadata": {
    "collapsed": false,
    "jupyter": {
     "outputs_hidden": false
    }
   },
   "outputs": [
    {
     "data": {
      "text/plain": [
       "'\\nfrom keras.models import Sequential\\nfrom keras.layers import Dense, Reshape, LSTM, Dropout\\nfrom keras.layers.convolutional import Conv2D\\nfrom keras import regularizers\\nfrom keras import optimizers\\nfrom keras.layers.wrappers import Bidirectional, TimeDistributed'"
      ]
     },
     "execution_count": 35,
     "metadata": {},
     "output_type": "execute_result"
    }
   ],
   "source": [
    "\"\"\"\n",
    "from keras.models import Sequential\n",
    "from keras.layers import Dense, Reshape, LSTM, Dropout\n",
    "from keras.layers.convolutional import Conv2D\n",
    "from keras import regularizers\n",
    "from keras import optimizers\n",
    "from keras.layers.wrappers import Bidirectional, TimeDistributed\"\"\""
   ]
  },
  {
   "cell_type": "code",
   "execution_count": 36,
   "metadata": {},
   "outputs": [],
   "source": [
    "from tensorflow.keras import Sequential\n",
    "from tensorflow.keras.layers import Dense, Conv2D, LSTM, Dropout, Reshape\n",
    "from tensorflow.keras.layers import Bidirectional, TimeDistributed\n",
    "from tensorflow.keras import regularizers, optimizers"
   ]
  },
  {
   "cell_type": "markdown",
   "metadata": {},
   "source": [
    "# Model all figs are based on"
   ]
  },
  {
   "cell_type": "code",
   "execution_count": 37,
   "metadata": {
    "collapsed": false,
    "jupyter": {
     "outputs_hidden": false
    },
    "scrolled": true
   },
   "outputs": [
    {
     "name": "stderr",
     "output_type": "stream",
     "text": [
      "2021-11-16 00:32:50.734228: I tensorflow/core/platform/cpu_feature_guard.cc:142] This TensorFlow binary is optimized with oneAPI Deep Neural Network Library (oneDNN)to use the following CPU instructions in performance-critical operations:  SSE4.1 SSE4.2 AVX AVX2 FMA\n",
      "To enable them in other operations, rebuild TensorFlow with the appropriate compiler flags.\n",
      "2021-11-16 00:32:50.761728: I tensorflow/core/platform/profile_utils/cpu_utils.cc:104] CPU Frequency: 3693100000 Hz\n",
      "2021-11-16 00:32:50.764354: I tensorflow/compiler/xla/service/service.cc:168] XLA service 0x558cbd78ebc0 initialized for platform Host (this does not guarantee that XLA will be used). Devices:\n",
      "2021-11-16 00:32:50.764376: I tensorflow/compiler/xla/service/service.cc:176]   StreamExecutor device (0): Host, Default Version\n"
     ]
    },
    {
     "name": "stdout",
     "output_type": "stream",
     "text": [
      "Model: \"sequential\"\n",
      "_________________________________________________________________\n",
      "Layer (type)                 Output Shape              Param #   \n",
      "=================================================================\n",
      "bidirectional (Bidirectional (None, 70, 64)            9472      \n",
      "_________________________________________________________________\n",
      "bidirectional_1 (Bidirection (None, 70, 64)            24832     \n",
      "_________________________________________________________________\n",
      "time_distributed (TimeDistri (None, 70, 1)             65        \n",
      "=================================================================\n",
      "Total params: 34,369\n",
      "Trainable params: 34,369\n",
      "Non-trainable params: 0\n",
      "_________________________________________________________________\n",
      "None\n",
      "WARNING:tensorflow:From /tmp/ipykernel_2653/815198928.py:27: Sequential.predict_proba (from tensorflow.python.keras.engine.sequential) is deprecated and will be removed after 2021-01-01.\n",
      "Instructions for updating:\n",
      "Please use `model.predict()` instead.\n",
      "0 0.3158043141125053 0.33129788806347477\n",
      "1 0.3504863950373608 0.367080238030415\n",
      "2 0.36289299309178064 0.37940959122554546\n",
      "3 0.37078810094459325 0.3876550892614056\n",
      "4 0.3798110813478077 0.3933724864843841\n",
      "5 0.38559142816861697 0.3995177161526195\n",
      "6 0.4034964049062456 0.41810898059196455\n",
      "7 0.4060341181446497 0.4263933724864844\n",
      "8 0.4195685887494713 0.4415619773637743\n",
      "9 0.42520795150148033 0.4493407490957178\n",
      "10 0.4436768645143099 0.47259927657422895\n",
      "11 0.43592274073029746 0.4577029287075571\n",
      "12 0.44438178485831104 0.4700322819026876\n",
      "13 0.4481883547159171 0.476177511570923\n",
      "14 0.45763428732553224 0.48874022791801175\n",
      "15 0.4786409135767658 0.5059702073042667\n",
      "16 0.4628506978711406 0.4899070436778033\n",
      "17 0.4972508106583956 0.526583952393917\n",
      "18 0.4653884111095446 0.4903737699817199\n",
      "19 0.38291273086141264 0.407568744895181\n",
      "20 0.5023262371352037 0.5412469371086306\n",
      "21 0.5151557873960243 0.549725798296449\n",
      "22 0.5278443535880446 0.5692116214849675\n",
      "23 0.46975891724235164 0.5035198942087045\n",
      "24 0.5367263499224587 0.5748123371319669\n",
      "25 0.5436345692936698 0.580296371202987\n",
      "26 0.539968983504864 0.5792851308778344\n",
      "27 0.5196672775976314 0.5615106374703435\n",
      "28 0.536867333991259 0.5727509626230018\n",
      "29 0.5581559283800931 0.6073276029714908\n",
      "30 0.555618215141689 0.6008712224339777\n",
      "31 0.5611165938248978 0.6024269767803664\n",
      "32 0.553080501903285 0.5946482050484229\n",
      "33 0.47159171013675455 0.5046089222511765\n",
      "34 0.5618215141688989 0.610322430088289\n",
      "35 0.49513604962639224 0.5335848469526662\n",
      "36 0.5559001832792895 0.600832328575318\n",
      "37 0.5707035105033131 0.615573101007351\n",
      "38 0.5664739884393064 0.6106335809575668\n",
      "39 0.48963767094318345 0.5400412274901794\n",
      "40 0.5661920203017059 0.601649099607172\n",
      "41 0.5764838573241223 0.6161565088872467\n",
      "42 0.5762018891865219 0.6225739955661002\n",
      "43 0.5513886930776822 0.5882696122282292\n",
      "44 0.5685887494713098 0.6109447318268445\n",
      "45 0.5910052164105456 0.6343588347399945\n",
      "46 0.5949527703369519 0.6363035276729805\n",
      "47 0.5894543916537431 0.6340476838707169\n",
      "48 0.5859297899337375 0.6264633814320719\n",
      "49 0.5986183561257578 0.6384426898992649\n",
      "50 0.593119977442549 0.6356423320757653\n",
      "51 0.5976314676441562 0.6425265450585352\n",
      "52 0.5890314394473425 0.6426821204931741\n",
      "53 0.6001691808825602 0.6465326125004862\n",
      "54 0.596926547300155 0.6405818521255494\n",
      "55 0.5991822924009587 0.6472715958150208\n",
      "56 0.5769068095305231 0.6192680175800241\n",
      "57 0.5881855350345411 0.6358756952277236\n",
      "58 0.5883265191033413 0.6384426898992649\n",
      "59 0.574369096292119 0.6158453580179689\n",
      "60 0.5807133793881292 0.6195402745906421\n",
      "61 0.601297053432962 0.6452880090233752\n",
      "62 0.6039757507401664 0.646415930924507\n",
      "63 0.5897363597913435 0.6403484889735911\n",
      "64 0.5956576906809531 0.6434599976663685\n",
      "65 0.5824051882137319 0.6269301077359885\n",
      "66 0.6072183843225716 0.6419431371786395\n",
      "67 0.5979134357817567 0.6468048695111042\n",
      "68 0.5960806428873537 0.6466492940764653\n",
      "69 0.6007331171577611 0.6515499202675897\n",
      "70 0.568165797264909 0.6118003967173583\n",
      "71 0.6077823205977725 0.6570728481972696\n",
      "72 0.5670379247145073 0.6213682859476488\n",
      "73 0.607500352460172 0.6603788261833456\n",
      "74 0.5807133793881292 0.6230796157286764\n",
      "75 0.5924150570985479 0.6431877406557505\n",
      "76 0.5998872127449598 0.6450546458714169\n",
      "77 0.5986183561257578 0.6435377853836879\n",
      "78 0.5684477654025095 0.6124615923145735\n",
      "79 0.598759340194558 0.6497996966279025\n",
      "80 0.6036937826025659 0.6531056746139785\n",
      "81 0.5877625828281404 0.6296915717008285\n",
      "82 0.6042577188777668 0.656333864882735\n",
      "83 0.5829691244889328 0.636770253976897\n",
      "84 0.5907232482729452 0.6440434055462643\n",
      "85 0.6036937826025659 0.651666601843569\n"
     ]
    },
    {
     "data": {
      "image/png": "[encoded data removed]",
      "text/plain": [
       "<Figure size 432x288 with 1 Axes>"
      ]
     },
     "metadata": {
      "needs_background": "light"
     },
     "output_type": "display_data"
    },
    {
     "data": {
      "image/png": "[encoded data removed]",
      "text/plain": [
       "<Figure size 432x288 with 1 Axes>"
      ]
     },
     "metadata": {
      "needs_background": "light"
     },
     "output_type": "display_data"
    },
    {
     "name": "stdout",
     "output_type": "stream",
     "text": [
      "0.6077823205977725 0.959053649917582\n"
     ]
    }
   ],
   "source": [
    "model = Sequential()\n",
    "\n",
    "model.add(Bidirectional(LSTM(32, return_sequences = True,\n",
    "                             dropout = 0.15, recurrent_dropout = 0.05),\n",
    "                            input_shape = (L, 4)))\n",
    "model.add(Bidirectional(LSTM(32, return_sequences = True,\n",
    "                             dropout = 0.15, recurrent_dropout = 0.05)))\n",
    "\n",
    "model.add(TimeDistributed(Dense(1, activation = 'sigmoid')))\n",
    "model.compile(loss='binary_crossentropy',\n",
    "              optimizer=optimizers.Adam(lr=0.001,\n",
    "                                        beta_1=0.9,\n",
    "                                        beta_2=0.999,\n",
    "                                        epsilon=1e-08,\n",
    "                                        decay=0.0))\n",
    "\n",
    "ModelTrainer(model).train(X_train[:, :, :4], X_valid[:, :, :4],\n",
    "                          y_train.reshape(-1, 70, 1), y_valid.reshape(-1, 70, 1))"
   ]
  },
  {
   "cell_type": "code",
   "execution_count": 39,
   "metadata": {},
   "outputs": [],
   "source": [
    "model.save('./2layer.h5')"
   ]
  },
  {
   "cell_type": "code",
   "execution_count": 43,
   "metadata": {},
   "outputs": [
    {
     "name": "stdout",
     "output_type": "stream",
     "text": [
      "Model: \"sequential\"\n",
      "_________________________________________________________________\n",
      "Layer (type)                 Output Shape              Param #   \n",
      "=================================================================\n",
      "bidirectional (Bidirectional (None, 70, 64)            9472      \n",
      "_________________________________________________________________\n",
      "bidirectional_1 (Bidirection (None, 70, 64)            24832     \n",
      "_________________________________________________________________\n",
      "time_distributed (TimeDistri (None, 70, 1)             65        \n",
      "=================================================================\n",
      "Total params: 34,369\n",
      "Trainable params: 34,369\n",
      "Non-trainable params: 0\n",
      "_________________________________________________________________\n"
     ]
    }
   ],
   "source": [
    "from tensorflow.keras.models import load_model\n",
    "new_model = load_model('./2layer.h5')\n",
    "new_model.summary()"
   ]
  },
  {
   "cell_type": "code",
   "execution_count": 44,
   "metadata": {},
   "outputs": [
    {
     "name": "stdout",
     "output_type": "stream",
     "text": [
      "Model: \"sequential\"\n",
      "_________________________________________________________________\n",
      "Layer (type)                 Output Shape              Param #   \n",
      "=================================================================\n",
      "bidirectional (Bidirectional (None, 70, 64)            9472      \n",
      "_________________________________________________________________\n",
      "bidirectional_1 (Bidirection (None, 70, 64)            24832     \n",
      "_________________________________________________________________\n",
      "time_distributed (TimeDistri (None, 70, 1)             65        \n",
      "=================================================================\n",
      "Total params: 34,369\n",
      "Trainable params: 34,369\n",
      "Non-trainable params: 0\n",
      "_________________________________________________________________\n",
      "None\n"
     ]
    },
    {
     "ename": "KeyboardInterrupt",
     "evalue": "",
     "output_type": "error",
     "traceback": [
      "\u001b[0;31m---------------------------------------------------------------------------\u001b[0m",
      "\u001b[0;31mKeyboardInterrupt\u001b[0m                         Traceback (most recent call last)",
      "\u001b[0;32m/tmp/ipykernel_2653/3553786060.py\u001b[0m in \u001b[0;36m<module>\u001b[0;34m\u001b[0m\n\u001b[0;32m----> 1\u001b[0;31m ModelTrainer(new_model).train(X_train[:, :, :4], X_valid[:, :, :4],\n\u001b[0m\u001b[1;32m      2\u001b[0m                           y_train.reshape(-1, 70, 1), y_valid.reshape(-1, 70, 1))\n",
      "\u001b[0;32m/tmp/ipykernel_2653/815198928.py\u001b[0m in \u001b[0;36mtrain\u001b[0;34m(self, X_train, X_valid, y_train, y_valid, PATIENCE, EPOCHS)\u001b[0m\n\u001b[1;32m     11\u001b[0m         \u001b[0mprint\u001b[0m\u001b[0;34m(\u001b[0m\u001b[0mmodel\u001b[0m\u001b[0;34m.\u001b[0m\u001b[0msummary\u001b[0m\u001b[0;34m(\u001b[0m\u001b[0;34m)\u001b[0m\u001b[0;34m)\u001b[0m\u001b[0;34m\u001b[0m\u001b[0;34m\u001b[0m\u001b[0m\n\u001b[1;32m     12\u001b[0m         \u001b[0;32mfor\u001b[0m \u001b[0mi\u001b[0m \u001b[0;32min\u001b[0m \u001b[0mrange\u001b[0m\u001b[0;34m(\u001b[0m\u001b[0mEPOCHS\u001b[0m\u001b[0;34m)\u001b[0m\u001b[0;34m:\u001b[0m\u001b[0;34m\u001b[0m\u001b[0;34m\u001b[0m\u001b[0m\n\u001b[0;32m---> 13\u001b[0;31m             \u001b[0mmodel\u001b[0m\u001b[0;34m.\u001b[0m\u001b[0mfit\u001b[0m\u001b[0;34m(\u001b[0m\u001b[0mX_train\u001b[0m\u001b[0;34m,\u001b[0m \u001b[0my_train\u001b[0m\u001b[0;34m,\u001b[0m \u001b[0mepochs\u001b[0m \u001b[0;34m=\u001b[0m \u001b[0;36m1\u001b[0m\u001b[0;34m,\u001b[0m \u001b[0mverbose\u001b[0m \u001b[0;34m=\u001b[0m \u001b[0;36m0\u001b[0m\u001b[0;34m,\u001b[0m \u001b[0mbatch_size\u001b[0m \u001b[0;34m=\u001b[0m \u001b[0;36m8\u001b[0m\u001b[0;34m)\u001b[0m\u001b[0;34m\u001b[0m\u001b[0;34m\u001b[0m\u001b[0m\n\u001b[0m\u001b[1;32m     14\u001b[0m             \u001b[0mself\u001b[0m\u001b[0;34m.\u001b[0m\u001b[0m_evaluate\u001b[0m\u001b[0;34m(\u001b[0m\u001b[0mX_train\u001b[0m\u001b[0;34m,\u001b[0m \u001b[0mX_valid\u001b[0m\u001b[0;34m,\u001b[0m \u001b[0my_train\u001b[0m\u001b[0;34m,\u001b[0m \u001b[0my_valid\u001b[0m\u001b[0;34m)\u001b[0m\u001b[0;34m\u001b[0m\u001b[0;34m\u001b[0m\u001b[0m\n\u001b[1;32m     15\u001b[0m             if (i > PATIENCE\n",
      "\u001b[0;32m~/.conda/envs/kaist/lib/python3.8/site-packages/tensorflow/python/keras/engine/training.py\u001b[0m in \u001b[0;36m_method_wrapper\u001b[0;34m(self, *args, **kwargs)\u001b[0m\n\u001b[1;32m    106\u001b[0m   \u001b[0;32mdef\u001b[0m \u001b[0m_method_wrapper\u001b[0m\u001b[0;34m(\u001b[0m\u001b[0mself\u001b[0m\u001b[0;34m,\u001b[0m \u001b[0;34m*\u001b[0m\u001b[0margs\u001b[0m\u001b[0;34m,\u001b[0m \u001b[0;34m**\u001b[0m\u001b[0mkwargs\u001b[0m\u001b[0;34m)\u001b[0m\u001b[0;34m:\u001b[0m\u001b[0;34m\u001b[0m\u001b[0;34m\u001b[0m\u001b[0m\n\u001b[1;32m    107\u001b[0m     \u001b[0;32mif\u001b[0m \u001b[0;32mnot\u001b[0m \u001b[0mself\u001b[0m\u001b[0;34m.\u001b[0m\u001b[0m_in_multi_worker_mode\u001b[0m\u001b[0;34m(\u001b[0m\u001b[0;34m)\u001b[0m\u001b[0;34m:\u001b[0m  \u001b[0;31m# pylint: disable=protected-access\u001b[0m\u001b[0;34m\u001b[0m\u001b[0;34m\u001b[0m\u001b[0m\n\u001b[0;32m--> 108\u001b[0;31m       \u001b[0;32mreturn\u001b[0m \u001b[0mmethod\u001b[0m\u001b[0;34m(\u001b[0m\u001b[0mself\u001b[0m\u001b[0;34m,\u001b[0m \u001b[0;34m*\u001b[0m\u001b[0margs\u001b[0m\u001b[0;34m,\u001b[0m \u001b[0;34m**\u001b[0m\u001b[0mkwargs\u001b[0m\u001b[0;34m)\u001b[0m\u001b[0;34m\u001b[0m\u001b[0;34m\u001b[0m\u001b[0m\n\u001b[0m\u001b[1;32m    109\u001b[0m \u001b[0;34m\u001b[0m\u001b[0m\n\u001b[1;32m    110\u001b[0m     \u001b[0;31m# Running inside `run_distribute_coordinator` already.\u001b[0m\u001b[0;34m\u001b[0m\u001b[0;34m\u001b[0m\u001b[0;34m\u001b[0m\u001b[0m\n",
      "\u001b[0;32m~/.conda/envs/kaist/lib/python3.8/site-packages/tensorflow/python/keras/engine/training.py\u001b[0m in \u001b[0;36mfit\u001b[0;34m(self, x, y, batch_size, epochs, verbose, callbacks, validation_split, validation_data, shuffle, class_weight, sample_weight, initial_epoch, steps_per_epoch, validation_steps, validation_batch_size, validation_freq, max_queue_size, workers, use_multiprocessing)\u001b[0m\n\u001b[1;32m   1096\u001b[0m                 batch_size=batch_size):\n\u001b[1;32m   1097\u001b[0m               \u001b[0mcallbacks\u001b[0m\u001b[0;34m.\u001b[0m\u001b[0mon_train_batch_begin\u001b[0m\u001b[0;34m(\u001b[0m\u001b[0mstep\u001b[0m\u001b[0;34m)\u001b[0m\u001b[0;34m\u001b[0m\u001b[0;34m\u001b[0m\u001b[0m\n\u001b[0;32m-> 1098\u001b[0;31m               \u001b[0mtmp_logs\u001b[0m \u001b[0;34m=\u001b[0m \u001b[0mtrain_function\u001b[0m\u001b[0;34m(\u001b[0m\u001b[0miterator\u001b[0m\u001b[0;34m)\u001b[0m\u001b[0;34m\u001b[0m\u001b[0;34m\u001b[0m\u001b[0m\n\u001b[0m\u001b[1;32m   1099\u001b[0m               \u001b[0;32mif\u001b[0m \u001b[0mdata_handler\u001b[0m\u001b[0;34m.\u001b[0m\u001b[0mshould_sync\u001b[0m\u001b[0;34m:\u001b[0m\u001b[0;34m\u001b[0m\u001b[0;34m\u001b[0m\u001b[0m\n\u001b[1;32m   1100\u001b[0m                 \u001b[0mcontext\u001b[0m\u001b[0;34m.\u001b[0m\u001b[0masync_wait\u001b[0m\u001b[0;34m(\u001b[0m\u001b[0;34m)\u001b[0m\u001b[0;34m\u001b[0m\u001b[0;34m\u001b[0m\u001b[0m\n",
      "\u001b[0;32m~/.conda/envs/kaist/lib/python3.8/site-packages/tensorflow/python/eager/def_function.py\u001b[0m in \u001b[0;36m__call__\u001b[0;34m(self, *args, **kwds)\u001b[0m\n\u001b[1;32m    778\u001b[0m       \u001b[0;32melse\u001b[0m\u001b[0;34m:\u001b[0m\u001b[0;34m\u001b[0m\u001b[0;34m\u001b[0m\u001b[0m\n\u001b[1;32m    779\u001b[0m         \u001b[0mcompiler\u001b[0m \u001b[0;34m=\u001b[0m \u001b[0;34m\"nonXla\"\u001b[0m\u001b[0;34m\u001b[0m\u001b[0;34m\u001b[0m\u001b[0m\n\u001b[0;32m--> 780\u001b[0;31m         \u001b[0mresult\u001b[0m \u001b[0;34m=\u001b[0m \u001b[0mself\u001b[0m\u001b[0;34m.\u001b[0m\u001b[0m_call\u001b[0m\u001b[0;34m(\u001b[0m\u001b[0;34m*\u001b[0m\u001b[0margs\u001b[0m\u001b[0;34m,\u001b[0m \u001b[0;34m**\u001b[0m\u001b[0mkwds\u001b[0m\u001b[0;34m)\u001b[0m\u001b[0;34m\u001b[0m\u001b[0;34m\u001b[0m\u001b[0m\n\u001b[0m\u001b[1;32m    781\u001b[0m \u001b[0;34m\u001b[0m\u001b[0m\n\u001b[1;32m    782\u001b[0m       \u001b[0mnew_tracing_count\u001b[0m \u001b[0;34m=\u001b[0m \u001b[0mself\u001b[0m\u001b[0;34m.\u001b[0m\u001b[0m_get_tracing_count\u001b[0m\u001b[0;34m(\u001b[0m\u001b[0;34m)\u001b[0m\u001b[0;34m\u001b[0m\u001b[0;34m\u001b[0m\u001b[0m\n",
      "\u001b[0;32m~/.conda/envs/kaist/lib/python3.8/site-packages/tensorflow/python/eager/def_function.py\u001b[0m in \u001b[0;36m_call\u001b[0;34m(self, *args, **kwds)\u001b[0m\n\u001b[1;32m    805\u001b[0m       \u001b[0;31m# In this case we have created variables on the first call, so we run the\u001b[0m\u001b[0;34m\u001b[0m\u001b[0;34m\u001b[0m\u001b[0;34m\u001b[0m\u001b[0m\n\u001b[1;32m    806\u001b[0m       \u001b[0;31m# defunned version which is guaranteed to never create variables.\u001b[0m\u001b[0;34m\u001b[0m\u001b[0;34m\u001b[0m\u001b[0;34m\u001b[0m\u001b[0m\n\u001b[0;32m--> 807\u001b[0;31m       \u001b[0;32mreturn\u001b[0m \u001b[0mself\u001b[0m\u001b[0;34m.\u001b[0m\u001b[0m_stateless_fn\u001b[0m\u001b[0;34m(\u001b[0m\u001b[0;34m*\u001b[0m\u001b[0margs\u001b[0m\u001b[0;34m,\u001b[0m \u001b[0;34m**\u001b[0m\u001b[0mkwds\u001b[0m\u001b[0;34m)\u001b[0m  \u001b[0;31m# pylint: disable=not-callable\u001b[0m\u001b[0;34m\u001b[0m\u001b[0;34m\u001b[0m\u001b[0m\n\u001b[0m\u001b[1;32m    808\u001b[0m     \u001b[0;32melif\u001b[0m \u001b[0mself\u001b[0m\u001b[0;34m.\u001b[0m\u001b[0m_stateful_fn\u001b[0m \u001b[0;32mis\u001b[0m \u001b[0;32mnot\u001b[0m \u001b[0;32mNone\u001b[0m\u001b[0;34m:\u001b[0m\u001b[0;34m\u001b[0m\u001b[0;34m\u001b[0m\u001b[0m\n\u001b[1;32m    809\u001b[0m       \u001b[0;31m# Release the lock early so that multiple threads can perform the call\u001b[0m\u001b[0;34m\u001b[0m\u001b[0;34m\u001b[0m\u001b[0;34m\u001b[0m\u001b[0m\n",
      "\u001b[0;32m~/.conda/envs/kaist/lib/python3.8/site-packages/tensorflow/python/eager/function.py\u001b[0m in \u001b[0;36m__call__\u001b[0;34m(self, *args, **kwargs)\u001b[0m\n\u001b[1;32m   2827\u001b[0m     \u001b[0;32mwith\u001b[0m \u001b[0mself\u001b[0m\u001b[0;34m.\u001b[0m\u001b[0m_lock\u001b[0m\u001b[0;34m:\u001b[0m\u001b[0;34m\u001b[0m\u001b[0;34m\u001b[0m\u001b[0m\n\u001b[1;32m   2828\u001b[0m       \u001b[0mgraph_function\u001b[0m\u001b[0;34m,\u001b[0m \u001b[0margs\u001b[0m\u001b[0;34m,\u001b[0m \u001b[0mkwargs\u001b[0m \u001b[0;34m=\u001b[0m \u001b[0mself\u001b[0m\u001b[0;34m.\u001b[0m\u001b[0m_maybe_define_function\u001b[0m\u001b[0;34m(\u001b[0m\u001b[0margs\u001b[0m\u001b[0;34m,\u001b[0m \u001b[0mkwargs\u001b[0m\u001b[0;34m)\u001b[0m\u001b[0;34m\u001b[0m\u001b[0;34m\u001b[0m\u001b[0m\n\u001b[0;32m-> 2829\u001b[0;31m     \u001b[0;32mreturn\u001b[0m \u001b[0mgraph_function\u001b[0m\u001b[0;34m.\u001b[0m\u001b[0m_filtered_call\u001b[0m\u001b[0;34m(\u001b[0m\u001b[0margs\u001b[0m\u001b[0;34m,\u001b[0m \u001b[0mkwargs\u001b[0m\u001b[0;34m)\u001b[0m  \u001b[0;31m# pylint: disable=protected-access\u001b[0m\u001b[0;34m\u001b[0m\u001b[0;34m\u001b[0m\u001b[0m\n\u001b[0m\u001b[1;32m   2830\u001b[0m \u001b[0;34m\u001b[0m\u001b[0m\n\u001b[1;32m   2831\u001b[0m   \u001b[0;34m@\u001b[0m\u001b[0mproperty\u001b[0m\u001b[0;34m\u001b[0m\u001b[0;34m\u001b[0m\u001b[0m\n",
      "\u001b[0;32m~/.conda/envs/kaist/lib/python3.8/site-packages/tensorflow/python/eager/function.py\u001b[0m in \u001b[0;36m_filtered_call\u001b[0;34m(self, args, kwargs, cancellation_manager)\u001b[0m\n\u001b[1;32m   1841\u001b[0m       \u001b[0;31m`\u001b[0m\u001b[0margs\u001b[0m\u001b[0;31m`\u001b[0m \u001b[0;32mand\u001b[0m\u001b[0;31m \u001b[0m\u001b[0;31m`\u001b[0m\u001b[0mkwargs\u001b[0m\u001b[0;31m`\u001b[0m\u001b[0;34m.\u001b[0m\u001b[0;34m\u001b[0m\u001b[0;34m\u001b[0m\u001b[0m\n\u001b[1;32m   1842\u001b[0m     \"\"\"\n\u001b[0;32m-> 1843\u001b[0;31m     return self._call_flat(\n\u001b[0m\u001b[1;32m   1844\u001b[0m         [t for t in nest.flatten((args, kwargs), expand_composites=True)\n\u001b[1;32m   1845\u001b[0m          if isinstance(t, (ops.Tensor,\n",
      "\u001b[0;32m~/.conda/envs/kaist/lib/python3.8/site-packages/tensorflow/python/eager/function.py\u001b[0m in \u001b[0;36m_call_flat\u001b[0;34m(self, args, captured_inputs, cancellation_manager)\u001b[0m\n\u001b[1;32m   1921\u001b[0m         and executing_eagerly):\n\u001b[1;32m   1922\u001b[0m       \u001b[0;31m# No tape is watching; skip to running the function.\u001b[0m\u001b[0;34m\u001b[0m\u001b[0;34m\u001b[0m\u001b[0;34m\u001b[0m\u001b[0m\n\u001b[0;32m-> 1923\u001b[0;31m       return self._build_call_outputs(self._inference_function.call(\n\u001b[0m\u001b[1;32m   1924\u001b[0m           ctx, args, cancellation_manager=cancellation_manager))\n\u001b[1;32m   1925\u001b[0m     forward_backward = self._select_forward_and_backward_functions(\n",
      "\u001b[0;32m~/.conda/envs/kaist/lib/python3.8/site-packages/tensorflow/python/eager/function.py\u001b[0m in \u001b[0;36mcall\u001b[0;34m(self, ctx, args, cancellation_manager)\u001b[0m\n\u001b[1;32m    543\u001b[0m       \u001b[0;32mwith\u001b[0m \u001b[0m_InterpolateFunctionError\u001b[0m\u001b[0;34m(\u001b[0m\u001b[0mself\u001b[0m\u001b[0;34m)\u001b[0m\u001b[0;34m:\u001b[0m\u001b[0;34m\u001b[0m\u001b[0;34m\u001b[0m\u001b[0m\n\u001b[1;32m    544\u001b[0m         \u001b[0;32mif\u001b[0m \u001b[0mcancellation_manager\u001b[0m \u001b[0;32mis\u001b[0m \u001b[0;32mNone\u001b[0m\u001b[0;34m:\u001b[0m\u001b[0;34m\u001b[0m\u001b[0;34m\u001b[0m\u001b[0m\n\u001b[0;32m--> 545\u001b[0;31m           outputs = execute.execute(\n\u001b[0m\u001b[1;32m    546\u001b[0m               \u001b[0mstr\u001b[0m\u001b[0;34m(\u001b[0m\u001b[0mself\u001b[0m\u001b[0;34m.\u001b[0m\u001b[0msignature\u001b[0m\u001b[0;34m.\u001b[0m\u001b[0mname\u001b[0m\u001b[0;34m)\u001b[0m\u001b[0;34m,\u001b[0m\u001b[0;34m\u001b[0m\u001b[0;34m\u001b[0m\u001b[0m\n\u001b[1;32m    547\u001b[0m               \u001b[0mnum_outputs\u001b[0m\u001b[0;34m=\u001b[0m\u001b[0mself\u001b[0m\u001b[0;34m.\u001b[0m\u001b[0m_num_outputs\u001b[0m\u001b[0;34m,\u001b[0m\u001b[0;34m\u001b[0m\u001b[0;34m\u001b[0m\u001b[0m\n",
      "\u001b[0;32m~/.conda/envs/kaist/lib/python3.8/site-packages/tensorflow/python/eager/execute.py\u001b[0m in \u001b[0;36mquick_execute\u001b[0;34m(op_name, num_outputs, inputs, attrs, ctx, name)\u001b[0m\n\u001b[1;32m     57\u001b[0m   \u001b[0;32mtry\u001b[0m\u001b[0;34m:\u001b[0m\u001b[0;34m\u001b[0m\u001b[0;34m\u001b[0m\u001b[0m\n\u001b[1;32m     58\u001b[0m     \u001b[0mctx\u001b[0m\u001b[0;34m.\u001b[0m\u001b[0mensure_initialized\u001b[0m\u001b[0;34m(\u001b[0m\u001b[0;34m)\u001b[0m\u001b[0;34m\u001b[0m\u001b[0;34m\u001b[0m\u001b[0m\n\u001b[0;32m---> 59\u001b[0;31m     tensors = pywrap_tfe.TFE_Py_Execute(ctx._handle, device_name, op_name,\n\u001b[0m\u001b[1;32m     60\u001b[0m                                         inputs, attrs, num_outputs)\n\u001b[1;32m     61\u001b[0m   \u001b[0;32mexcept\u001b[0m \u001b[0mcore\u001b[0m\u001b[0;34m.\u001b[0m\u001b[0m_NotOkStatusException\u001b[0m \u001b[0;32mas\u001b[0m \u001b[0me\u001b[0m\u001b[0;34m:\u001b[0m\u001b[0;34m\u001b[0m\u001b[0;34m\u001b[0m\u001b[0m\n",
      "\u001b[0;31mKeyboardInterrupt\u001b[0m: "
     ]
    }
   ],
   "source": [
    "ModelTrainer(new_model).train(X_train[:, :, :4], X_valid[:, :, :4],\n",
    "                          y_train.reshape(-1, 70, 1), y_valid.reshape(-1, 70, 1))"
   ]
  },
  {
   "cell_type": "markdown",
   "metadata": {},
   "source": [
    "# Hyper param search\n",
    "\n",
    "- In summary all of the models did about the same\n",
    "- Maybe slight advantage to deeper models, but if two layers is good enough, I'm inclined to stay simple."
   ]
  },
  {
   "cell_type": "code",
   "execution_count": null,
   "metadata": {
    "collapsed": false,
    "jupyter": {
     "outputs_hidden": false
    },
    "scrolled": true
   },
   "outputs": [],
   "source": [
    "num_layers = [4, 3, 2, 1]\n",
    "l2s = [0]\n",
    "hiddens = [32, 24]\n",
    "lrs = [0.001]\n",
    "dropouts = [0.15, 0.1, 0.2]\n",
    "r_dropouts = [0.05]\n",
    "\n",
    "for l2 in l2s:\n",
    "    for hidden in hiddens:\n",
    "        for lr in lrs:\n",
    "            for dropout in dropouts:\n",
    "                for r_dropout in r_dropouts:\n",
    "                    for num_layer in num_layers:\n",
    "                        print l2, hidden, lr, dropout, r_dropout, num_layer\n",
    "                        model = Sequential()\n",
    "                        reg = regularizers.l2(l2)\n",
    "\n",
    "                        model.add(Bidirectional(LSTM(hidden, return_sequences = True,\n",
    "                                                     dropout = dropout, recurrent_dropout = r_dropout),\n",
    "                                                     input_shape=(L, 4)))\n",
    "                        for _ in range(num_layer-1):\n",
    "                            model.add(Bidirectional(LSTM(hidden, return_sequences = True,\n",
    "                                           dropout = dropout, recurrent_dropout = r_dropout)))\n",
    "\n",
    "                        model.add(TimeDistributed(Dense(1, activation = 'sigmoid')))\n",
    "                        model.compile(loss='binary_crossentropy',\n",
    "                                      optimizer=optimizers.Adam(lr=lr,\n",
    "                                                                beta_1=0.9,\n",
    "                                                                beta_2=0.999,\n",
    "                                                                epsilon=1e-08,\n",
    "                                                                decay=0.0))\n",
    "                        ModelTrainer(model).train(X_train, X_valid,\n",
    "                                                  y_train.reshape(-1, 70, 1), y_valid.reshape(-1, 70, 1))"
   ]
  },
  {
   "cell_type": "code",
   "execution_count": null,
   "metadata": {
    "collapsed": false,
    "jupyter": {
     "outputs_hidden": false
    },
    "scrolled": true
   },
   "outputs": [],
   "source": [
    "# Why not?\n",
    "model = Sequential()\n",
    "model.add(Bidirectional(LSTM(32, return_sequences = True,\n",
    "                             dropout = 0.15, recurrent_dropout = 0.05),\n",
    "                            input_shape = (L, 4)))\n",
    "model.add(Bidirectional(LSTM(32, return_sequences = True,\n",
    "                             dropout = 0.15, recurrent_dropout = 0.05)))\n",
    "model.add(Bidirectional(LSTM(32, return_sequences = True,\n",
    "                             dropout = 0.15, recurrent_dropout = 0.05),\n",
    "                            input_shape = (L, 4)))\n",
    "model.add(Bidirectional(LSTM(32, return_sequences = True,\n",
    "                             dropout = 0.15, recurrent_dropout = 0.05)))\n",
    "model.add(Bidirectional(LSTM(32, return_sequences = True,\n",
    "                             dropout = 0.15, recurrent_dropout = 0.05),\n",
    "                            input_shape = (L, 4)))\n",
    "model.add(Bidirectional(LSTM(32, return_sequences = True,\n",
    "                             dropout = 0.15, recurrent_dropout = 0.05)))\n",
    "\n",
    "model.add(TimeDistributed(Dense(1, activation = 'sigmoid')))\n",
    "model.compile(loss='binary_crossentropy',\n",
    "              optimizer=optimizers.Adam(lr=0.001,\n",
    "                                        beta_1=0.9,\n",
    "                                        beta_2=0.999,\n",
    "                                        epsilon=1e-08,\n",
    "                                        decay=0.0))\n",
    "\n",
    "ModelTrainer(model).train(X_train, X_valid,\n",
    "                          y_train.reshape(-1, 70, 1), y_valid.reshape(-1, 70, 1))"
   ]
  },
  {
   "cell_type": "code",
   "execution_count": null,
   "metadata": {},
   "outputs": [],
   "source": []
  }
 ],
 "metadata": {
  "anaconda-cloud": {},
  "kernelspec": {
   "display_name": "Python .conda-kaist",
   "language": "python",
   "name": "conda-env-.conda-kaist-py"
  },
  "language_info": {
   "codemirror_mode": {
    "name": "ipython",
    "version": 3
   },
   "file_extension": ".py",
   "mimetype": "text/x-python",
   "name": "python",
   "nbconvert_exporter": "python",
   "pygments_lexer": "ipython3",
   "version": "3.8.10"
  }
 },
 "nbformat": 4,
 "nbformat_minor": 4
}
